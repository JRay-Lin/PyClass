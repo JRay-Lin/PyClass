{
 "cells": [
  {
   "cell_type": "markdown",
   "metadata": {},
   "source": [
    "# Le.01 Python variables"
   ]
  },
  {
   "cell_type": "markdown",
   "metadata": {},
   "source": [
    "## 背景知識\n",
    "Python 是一種直譯譯語言，代表在運行他的過程不用先編譯，就可以直接運行。\n",
    "\n",
    "![img](./img/1678697578254.png)"
   ]
  },
  {
   "cell_type": "markdown",
   "metadata": {},
   "source": [
    "變數的概念是一個在記憶體中的箱子，因此可能會出現一些和數學邏輯相違背的方法"
   ]
  },
  {
   "cell_type": "code",
   "execution_count": null,
   "metadata": {},
   "outputs": [],
   "source": [
    "x = 1 # 0x001\n",
    "\n",
    "x = x + 1 # var1 - var1 = 1, 0 = 1?\n",
    "print(x)"
   ]
  },
  {
   "cell_type": "markdown",
   "metadata": {},
   "source": [
    "Python 是一種弱類型語言(weak type),因此一個變數的賦值類型可能會隨程式運行而改變\n",
    "\n",
    "\n",
    "![img](./img/type.png)\n"
   ]
  },
  {
   "cell_type": "code",
   "execution_count": null,
   "metadata": {},
   "outputs": [],
   "source": [
    "# Type is changed because of new given variable type.\n",
    "var = 123 # int\n",
    "print(type(var))\n",
    "print(var)\n",
    "\n",
    "var = \"Hello world\" # str\n",
    "print(type(var))\n",
    "print(var)"
   ]
  },
  {
   "cell_type": "code",
   "execution_count": null,
   "metadata": {},
   "outputs": [],
   "source": [
    "# Type is changed because of calculation between int and float sometimes boolean.\n",
    "var1 = 10\n",
    "print(type(var1))\n",
    "\n",
    "var1 = var1 + 5.5\n",
    "print(type(var1))\n",
    "\n",
    "var_true = True # 1\n",
    "var_false = False # 0\n",
    "\n",
    "print(var_true + var_false)\n",
    "print(type(var_true + var_false))\n",
    "print(var_true + 100)"
   ]
  },
  {
   "cell_type": "code",
   "execution_count": null,
   "metadata": {},
   "outputs": [],
   "source": [
    "# But this can't happen between other non-numeric variables\n",
    "var1 = 0 # Int\n",
    "var2 = \"1\" # This is a string\n",
    "var_true = True # This is a boolean\n",
    "\n",
    "print(var1 + var2)\n",
    "print(var_true + var2)"
   ]
  },
  {
   "cell_type": "markdown",
   "metadata": {},
   "source": [
    "## Python 變數\n",
    "在 Python 中，變數是用來儲存資料的容器，不同的資料類型可以使用不同的變數來表示。以下是 Python 中幾個主要的變數類型："
   ]
  },
  {
   "cell_type": "markdown",
   "metadata": {},
   "source": [
    "1. **整數 (int)**：整數是用來表示不帶小數點的數值，例如 1、-5、1000 等。"
   ]
  },
  {
   "cell_type": "code",
   "execution_count": null,
   "metadata": {},
   "outputs": [],
   "source": [
    "int1 = 123 # Positive integer\n",
    "int2 = -456 # Negative integer\n",
    "int3 = 0 \n",
    "\n",
    "print(\"Type of int1:\",type(int1))\n",
    "print(\"Type of int2:\", type(int2))\n",
    "print(\"Type of int3:\", type(int3))"
   ]
  },
  {
   "cell_type": "code",
   "execution_count": null,
   "metadata": {},
   "outputs": [],
   "source": [
    "# You can add two int together by using the + sign\n",
    "a = 1\n",
    "b = 2 \n",
    "\n",
    "# + - * / % ** //\n",
    "sum_of_a_and_b = a + b\n",
    "print(sum_of_a_and_b)"
   ]
  },
  {
   "cell_type": "markdown",
   "metadata": {},
   "source": [
    "2. **浮點數 (float)**：浮點數用來表示帶有小數點的數值，例如 3.14、-0.5、2.718 等。浮點數也可以用科學記號表示，例如2e3 (2 * 10^3 = 2000.0)"
   ]
  },
  {
   "cell_type": "code",
   "execution_count": null,
   "metadata": {},
   "outputs": [],
   "source": [
    "float1 = 3.14 # Positive float\n",
    "float2 = -5.88 # Negative float\n",
    "float3 = 2e3  # Scientific notation\n",
    "\n",
    "print(float1, float2, float3)"
   ]
  },
  {
   "cell_type": "code",
   "execution_count": null,
   "metadata": {},
   "outputs": [],
   "source": [
    "# Is var1 an integer?\n",
    "var1 = 0.0\n",
    "\n",
    "print(type(var1) is int)"
   ]
  },
  {
   "cell_type": "markdown",
   "metadata": {},
   "source": [
    "3. **字串 (str)**：字串是一組文字或字元的集合，可以是單個字母或詞組，例如 \"Hello, World!\"。在 Python 中，字串通常用單引號（'）或雙引號（\"）來表示。"
   ]
  },
  {
   "cell_type": "code",
   "execution_count": null,
   "metadata": {},
   "outputs": [],
   "source": [
    "string1 = \"Hello\"\n",
    "string2 = \"World\"\n",
    "string3 = string1 + \" \" + string2 + \"!\"\n",
    "\n",
    "# Strings can be concatenated by adding them together.\n",
    "print(string3)"
   ]
  },
  {
   "cell_type": "markdown",
   "metadata": {},
   "source": [
    "4. **布林值 (bool)**：布林值只有兩個可能的取值，分別是 `True` 和 `False`。布林值通常用於邏輯判斷或控制程式的流程。"
   ]
  },
  {
   "cell_type": "code",
   "execution_count": null,
   "metadata": {},
   "outputs": [],
   "source": [
    "boo_true = True\n",
    "boo_false = False\n",
    "boo_also_true = True\n",
    "none = None"
   ]
  },
  {
   "cell_type": "code",
   "execution_count": null,
   "metadata": {},
   "outputs": [],
   "source": [
    "# Some simple logic concepts\n",
    "print(boo_true and boo_false)  \n",
    "print(boo_true and boo_also_true)  \n",
    "print(boo_true or boo_false) "
   ]
  },
  {
   "cell_type": "markdown",
   "metadata": {},
   "source": [
    "5. **列表 (list)**：列表是一種可以儲存多個值的資料結構，用於包含有序的資料集合。列表中的值可以是不同類型，例如 `[1, \"apple\", 3.14]`。列表用方括號 (`[]`) 來表示，且可以進行新增、刪除或修改元素的操作。"
   ]
  },
  {
   "cell_type": "code",
   "execution_count": null,
   "metadata": {},
   "outputs": [],
   "source": [
    "list1 = [1,2,3,4,5,6,7,8,9,10]\n",
    "list2 = ['a','b','c','d','e','f','g','h','i','j']\n",
    "list3 = [1,'a',2,'b',3,'c',4,'d',5,'e']"
   ]
  },
  {
   "cell_type": "code",
   "execution_count": null,
   "metadata": {},
   "outputs": [],
   "source": [
    "example_list = [5,4,3]\n",
    "\n",
    "# You can access the elements of a list using their index\n",
    "# The first position in the list is index 0\n",
    "print(example_list[0])\n",
    "\n",
    "# You can access a range of elements in a list using slicing\n",
    "print(example_list[0:2])\n",
    "\n",
    "# You can modify the elements of a list using their index\n",
    "example_list[0] = 10\n",
    "print(example_list)\n",
    "\n",
    "# You can add elements to the end of list using the append() method\n",
    "example_list.append(2)\n",
    "print(example_list)\n",
    "\n",
    "# You can add an element to a specific position in the list using the insert() method\n",
    "example_list.insert(2, 20)\n",
    "print(example_list)\n",
    "\n",
    "# You can remove elements from a list using the remove() method\n",
    "# example_list.remove(10)\n",
    "example_list.remove(example_list[0])\n",
    "print(example_list)\n",
    "\n",
    "# You can remove an element from a specific position using the pop() method\n",
    "example_list.pop(1)\n",
    "print(example_list)\n",
    "\n",
    "# You can sort the elements of a list using the sort() method\n",
    "example_list.sort()\n",
    "print(example_list)"
   ]
  },
  {
   "cell_type": "markdown",
   "metadata": {},
   "source": [
    "6. **元組 (tuple)**：元組與列表相似，但它是不可變的，也就是一旦建立後就無法修改內容。例如 `(1, 2, 3)` 就是一個元組。元組通常用於表示不會變動的資料。"
   ]
  },
  {
   "cell_type": "code",
   "execution_count": null,
   "metadata": {},
   "outputs": [],
   "source": [
    "tuple1 = (1, 3, 4)\n",
    "tuple2 = (1, 2, 3)\n",
    "\n",
    "tuple1 = tuple2 + tuple1\n",
    "print(tuple1)\n",
    "\n",
    "tuple1 = tuple1 * 3\n",
    "print(tuple1)\n",
    "\n",
    "# tuple1 = tuple1 - tuple2\n",
    "# print(tuple1)"
   ]
  },
  {
   "cell_type": "markdown",
   "metadata": {},
   "source": [
    "7. **集合 (set)**：集合是一組不包含重複元素的無序資料集合，例如 `{1, 2, 3}`。集合主要用於去除重複元素或執行集合操作（如聯集和交集）。"
   ]
  },
  {
   "cell_type": "code",
   "execution_count": null,
   "metadata": {},
   "outputs": [],
   "source": [
    "set1 = {10, 20, 30, 40, 50}\n",
    "print(set1)\n",
    "\n",
    "set1.add(10)\n",
    "print(set1)\n",
    "\n",
    "set1.add(60)\n",
    "print(set1)\n",
    "\n",
    "set1.update([99,88])\n",
    "print(set1)"
   ]
  },
  {
   "cell_type": "code",
   "execution_count": null,
   "metadata": {},
   "outputs": [],
   "source": [
    "set1 = {10, 20, 30, 40, 50}\n",
    "print(set1)\n",
    "set1_list = list(set1)\n",
    "print(set1_list.sort())"
   ]
  },
  {
   "cell_type": "markdown",
   "metadata": {},
   "source": [
    "8. **字典 (dict)**：字典是一種鍵值對 (key-value) 的資料結構，可以用來快速查找資料。例如，`{\"name\": \"Alice\", \"age\": 25}` 是一個字典，其中 `name` 是鍵 (key)，而 `Alice` 是值 (value)。字典通常用大括號 (`{}`) 來表示。"
   ]
  },
  {
   "cell_type": "code",
   "execution_count": null,
   "metadata": {},
   "outputs": [],
   "source": [
    "dict1 = {\n",
    "    \"name\": \"JRay\",\n",
    "    \"age\": 20,\n",
    "    \"gender\": \"male\",\n",
    "    \"email\": {\n",
    "        \"acc\": \"eqwewqeqw\",\n",
    "        \"password\": \"xxxxxx\"\n",
    "    },\n",
    "    \"hobbies\": [\"reading\", \"writing\"]\n",
    "} \n",
    "\n",
    "dict2 = {\n",
    "    \"name\": \"Alice\",\n",
    "    \"age\": 20,\n",
    "    \"gender\": \"female\",\n",
    "    \"email\": {\n",
    "        \"acc\": \"eqwewqeqw\",\n",
    "        \"password\": \"xxxxxx\"\n",
    "    },\n",
    "    \"hobbies\": [{\"casual\": \"watch tv\", \"sometimes\": \"swimming\"}, \"writing\"]\n",
    "} \n",
    "\n",
    "print(dict2[\"hobbies\"][0])"
   ]
  },
  {
   "cell_type": "code",
   "execution_count": null,
   "metadata": {},
   "outputs": [],
   "source": [
    "class userInfo():\n",
    "    def __init__(self, name, age, gender):\n",
    "        self.name = name\n",
    "        self.age = age\n",
    "        self.gender = gender\n",
    "\n",
    "    def showInfo(self):\n",
    "        print(self.name, self.age, self.gender)\n",
    "\n",
    "alice = userInfo(\"Alice\", 20, \"female\")\n",
    "JRay = userInfo(\"JRay\", 30, \"male\")\n",
    "Ryan = userInfo(\"Ryan\", 25, \"male\")"
   ]
  },
  {
   "cell_type": "markdown",
   "metadata": {},
   "source": [
    "## Homework\n",
    "int2, int4, int8.... 的差異在哪？"
   ]
  },
  {
   "cell_type": "markdown",
   "metadata": {},
   "source": []
  }
 ],
 "metadata": {
  "kernelspec": {
   "display_name": "Python 3.10 (tensorflow)",
   "language": "python",
   "name": "tensorflow"
  },
  "language_info": {
   "codemirror_mode": {
    "name": "ipython",
    "version": 3
   },
   "file_extension": ".py",
   "mimetype": "text/x-python",
   "name": "python",
   "nbconvert_exporter": "python",
   "pygments_lexer": "ipython3",
   "version": "3.10.14"
  }
 },
 "nbformat": 4,
 "nbformat_minor": 2
}
