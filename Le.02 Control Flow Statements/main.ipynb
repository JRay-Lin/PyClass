{
 "cells": [
  {
   "cell_type": "markdown",
   "metadata": {},
   "source": [
    "# Le.02 Control Flow Statements"
   ]
  },
  {
   "cell_type": "markdown",
   "metadata": {},
   "source": [
    "## 基本概念\n",
    "Control Flow Statements是指透過一定條件，判斷是否執行某段程式碼。\n",
    "ex: 如果有下雨，小明就會帶傘。\n",
    "\n",
    "Control Flow statements 可以分為以下兩項三種：\n",
    "1.\t條件語句（Conditional Statements）\n",
    "\t- if、elif、else 等，根據條件來選擇性地執行不同的程式碼。\n",
    "2.\t迴圈語句（Loop Statements）\n",
    "\t- for loop：用來[對可迭代物件進行遍歷](https://youtu.be/vfQdRp_PhhQ?si=qcPFqYC00zAanG-m)（如列表、字串等）或反覆執行特定次數的程式碼段。\n",
    "\t- while loop：只要條件為 True，就會持續執行程式碼段。"
   ]
  },
  {
   "cell_type": "markdown",
   "metadata": {},
   "source": [
    "判斷變數值的方式有:\n",
    "\n",
    "| 意義 | 方法 | 比較 |\n",
    "| ----- | ----- | ----- |\n",
    "| 等於 | a == b | 變數值 |\n",
    "| 不等於 | a != b | 變數值 |\n",
    "| 大於等於 | a >= b | 變數值 |\n",
    "| 小於等於 | a <= b | 變數值 |\n",
    "| 大於 | a > b | 變數值 |\n",
    "| 小於 | a < b | 變數值 |\n",
    "| ----- | ----- | ----- |\n",
    "| 是 | a is b | 記憶體位置 |\n",
    "| 不是 | a not b | 記憶體位置 |"
   ]
  },
  {
   "cell_type": "code",
   "execution_count": null,
   "metadata": {},
   "outputs": [],
   "source": [
    "a = [1,2,3]\n",
    "b = a[:]\n",
    "\n",
    "print(hex(id(a)))\n",
    "print(hex(id(b)))\n",
    "\n",
    "print(a == b)\n",
    "print(a is b)"
   ]
  },
  {
   "cell_type": "markdown",
   "metadata": {},
   "source": [
    "條件可以使用and 或 or 連接，產生不同集合\n",
    "\n",
    "![img](./img/venn.png)"
   ]
  },
  {
   "cell_type": "code",
   "execution_count": null,
   "metadata": {},
   "outputs": [],
   "source": [
    "a = 10\n",
    "b = 20\n",
    "c = 30\n",
    "\n",
    "if b > a and b < c:\n",
    "    print(\"b is in the middle of a and c\")"
   ]
  },
  {
   "cell_type": "markdown",
   "metadata": {},
   "source": [
    "## if ... else"
   ]
  },
  {
   "cell_type": "markdown",
   "metadata": {},
   "source": [
    "### Nested if"
   ]
  },
  {
   "cell_type": "code",
   "execution_count": null,
   "metadata": {},
   "outputs": [],
   "source": [
    "x = 41\n",
    "\n",
    "if x > 10:\n",
    "  print(\"Above ten,\")\n",
    "  if x > 20:\n",
    "    print(\"and also above 20!\")\n",
    "  else:\n",
    "    print(\"but not above 20.\")"
   ]
  },
  {
   "cell_type": "code",
   "execution_count": null,
   "metadata": {},
   "outputs": [],
   "source": [
    "a = 10\n",
    "b = 5\n",
    "\n",
    "if a > b:\n",
    "    print(\"a is greater than b\")\n",
    "else:\n",
    "    if a == b:\n",
    "        print(\"a is equal to b\")\n",
    "    else:\n",
    "        if a < b:\n",
    "            print(\"a is less than b\")\n",
    "        else:\n",
    "            print(\"I don't know what's going on....\")"
   ]
  },
  {
   "cell_type": "markdown",
   "metadata": {},
   "source": [
    "### Elif"
   ]
  },
  {
   "cell_type": "code",
   "execution_count": null,
   "metadata": {},
   "outputs": [],
   "source": [
    "if a > b:\n",
    "    print(\"a is greater than b\")\n",
    "elif a == b:\n",
    "    print(\"a is equal to b\")\n",
    "elif a < b:\n",
    "    print(\"a is less than b\")\n",
    "else:\n",
    "    print(\"I don't know what's going on....\")"
   ]
  },
  {
   "cell_type": "markdown",
   "metadata": {},
   "source": [
    "## for loops"
   ]
  },
  {
   "cell_type": "code",
   "execution_count": null,
   "metadata": {},
   "outputs": [],
   "source": [
    "for i in range(1, 10):\n",
    "    print(i, end=\" \")"
   ]
  },
  {
   "cell_type": "code",
   "execution_count": null,
   "metadata": {},
   "outputs": [],
   "source": [
    "num_list = [1,3,5,7,9]\n",
    "str_list = [\"apple\",\"banana\",\"pineapple\"]\n",
    "\n",
    "for number in num_list:\n",
    "    print(number, end=' ')\n",
    "\n",
    "print('\\n')\n",
    "\n",
    "for i in str_list:\n",
    "    print(i, end=\" \")\n"
   ]
  },
  {
   "cell_type": "code",
   "execution_count": null,
   "metadata": {},
   "outputs": [],
   "source": [
    "for number in range(len(num_list)):\n",
    "    print(num_list[number], end=' ')\n"
   ]
  },
  {
   "cell_type": "code",
   "execution_count": null,
   "metadata": {},
   "outputs": [],
   "source": [
    "str_1  = \"Hello world\"\n",
    "str_list = []\n",
    "\n",
    "for i in str_1:\n",
    "    str_list.append(i)\n",
    "\n",
    "print(str_list)"
   ]
  },
  {
   "cell_type": "code",
   "execution_count": null,
   "metadata": {},
   "outputs": [],
   "source": [
    "for i in range(1, 10):\n",
    "    print(i)\n",
    "else:\n",
    "    print(\"All done!\")"
   ]
  },
  {
   "cell_type": "markdown",
   "metadata": {},
   "source": [
    "## While loops:"
   ]
  },
  {
   "cell_type": "code",
   "execution_count": null,
   "metadata": {},
   "outputs": [],
   "source": [
    "from time import sleep \n",
    "\n",
    "i = 0\n",
    "\n",
    "while True:\n",
    "    print(i)\n",
    "    i += 1\n",
    "    sleep(0.1)"
   ]
  },
  {
   "cell_type": "code",
   "execution_count": null,
   "metadata": {},
   "outputs": [],
   "source": [
    "from time import sleep\n",
    "i = 0 \n",
    "max = 10\n",
    "\n",
    "while i <= max:\n",
    "    print(i)\n",
    "    i = i + 1\n",
    "    sleep(0.1)\n",
    "else:\n",
    "    print(\"i reach the max\")"
   ]
  },
  {
   "cell_type": "markdown",
   "metadata": {},
   "source": [
    "### Homework"
   ]
  },
  {
   "cell_type": "markdown",
   "metadata": {},
   "source": [
    "1. a = n^2, b = n, result = 0, 在 i >= b 且 i<= a 時，累加i，並print出來\n",
    "2. n*n 乘法表 #提示：使用 ```print(\"...\",end=\"\\t\")```可以避免換行\n",
    "3. 計算strawberry 有多少個r"
   ]
  },
  {
   "cell_type": "code",
   "execution_count": null,
   "metadata": {},
   "outputs": [
    {
     "name": "stdout",
     "output_type": "stream",
     "text": [
      "['s', 't', 'r', 'a', 'w', 'b', 'e', 'r', 'r', 'y']\n",
      "3\n"
     ]
    }
   ],
   "source": [
    "# Lv.1\n",
    "ls = []\n",
    "ht = {}\n",
    "text = \"strawberry\"\n",
    "\n",
    "for char in text:\n",
    "    ls.append(char)\n",
    "\n",
    "# ls = [ char for char in text ]\n",
    "\n",
    "print(ls)\n",
    "\n",
    "for char in ls:\n",
    "    if char in ht:\n",
    "        ht[char] += 1\n",
    "    else:\n",
    "        ht[char] = 1\n",
    "        \n",
    "print(ht[\"r\"])"
   ]
  },
  {
   "cell_type": "code",
   "execution_count": null,
   "metadata": {},
   "outputs": [
    {
     "name": "stdout",
     "output_type": "stream",
     "text": [
      "['s', 't', 'r', 'a', 'w', 'b', 'e', 'r', 'r', 'y']\n",
      "{'s': 1, 't': 1, 'r': 3, 'a': 1, 'w': 1, 'b': 1, 'e': 1, 'y': 1}\n",
      "3\n"
     ]
    }
   ],
   "source": [
    "# Lv.2\n",
    "text = \"strawberry\"\n",
    "ht = {}\n",
    "\n",
    "for char in text:\n",
    "    if char in ht:\n",
    "        ht[char] += 1\n",
    "    else:\n",
    "        ht[char] = 1\n",
    "\n",
    "print(ht)\n",
    "print(ht[\"r\"])"
   ]
  },
  {
   "cell_type": "code",
   "execution_count": null,
   "metadata": {},
   "outputs": [
    {
     "name": "stdout",
     "output_type": "stream",
     "text": [
      "['s', 't', 'r', 'a', 'w', 'b', 'e', 'r', 'r', 'y']\n"
     ]
    },
    {
     "data": {
      "text/plain": [
       "3"
      ]
     },
     "execution_count": 5,
     "metadata": {},
     "output_type": "execute_result"
    }
   ],
   "source": [
    "# Lv.3\n",
    "ls = [char for char in text]\n",
    "ht = {char: i for char in ls if }\n"
   ]
  }
 ],
 "metadata": {
  "kernelspec": {
   "display_name": "pytorch",
   "language": "python",
   "name": "python3"
  },
  "language_info": {
   "codemirror_mode": {
    "name": "ipython",
    "version": 3
   },
   "file_extension": ".py",
   "mimetype": "text/x-python",
   "name": "python",
   "nbconvert_exporter": "python",
   "pygments_lexer": "ipython3",
   "version": "3.12.4"
  }
 },
 "nbformat": 4,
 "nbformat_minor": 2
}
